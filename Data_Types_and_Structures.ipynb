{
  "nbformat": 4,
  "nbformat_minor": 0,
  "metadata": {
    "colab": {
      "provenance": []
    },
    "kernelspec": {
      "name": "python3",
      "display_name": "Python 3"
    },
    "language_info": {
      "name": "python"
    }
  },
  "cells": [
    {
      "cell_type": "markdown",
      "source": [
        "1.What are data structures, and why are they important?\n",
        "\n",
        "  - In Python, data structures are ways we organize and store data so that we can use it efficiently, with built-in options like lists, tuples, sets, and dictionaries, and more complex ones like stacks, queues, and trees built from them. They are important because the right choice of data structure directly impacts how fast and efficient our program is—for example, dictionaries allow quick lookups, sets help store unique values, and lists are great for ordered collections. In short, data structures form the foundation for writing code that is both effective and optimized.\n",
        "\n",
        "2.Explain the difference between mutable and immutable data types with examples.\n",
        "\n",
        "  - The difference between mutable and immutable data types lies in whether we can change their contents after creation. Mutable data types allow us to modify, add, or remove elements without creating a new object. For example, lists and dictionaries are mutable—if we have my_list = [1, 2, 3] and then do my_list[1] = 99, the list changes to [1, 99, 3] without creating a new list. Immutable data types, on the other hand, cannot be changed once created. If we try to modify them, Python actually creates a new object instead of altering the existing one. Strings and tuples are common examples—if we have my_str = \"hello\" and then do my_str = my_str + \" world\", a new string \"hello world\" is created, while the original \"hello\" remains unchanged. In short, mutable objects can be updated in place, while immutable ones are fixed and require new objects for any change.\n",
        "\n",
        "3.What are the main differences between lists and tuples in Python?\n",
        "\n",
        "  - The main differences between lists and tuples in Python come from their mutability and usage. A list is mutable, which means we can change its contents after creation by adding, removing, or modifying elements. A tuple, on the other hand, is immutable, so once created, its contents cannot be changed. Lists are written with square brackets [], while tuples use parentheses (). Because tuples are immutable, they are generally faster to access and can be used as keys in dictionaries or elements of sets, unlike lists. Lists are preferred when we need a flexible collection that changes over time, whereas tuples are used for fixed collections of data that shouldn’t be altered.\n",
        "\n",
        "4.Describe how dictionaries store data.\n",
        "\n",
        "  - In Python, dictionaries store data in the form of key–value pairs, where each key acts like a unique identifier and is mapped to a specific value. Behind the scenes, Python uses a hash table to store these pairs, which makes looking up a value by its key very fast. Keys must always be immutable types (like strings, numbers, or tuples), while values can be of any type, even lists or other dictionaries. For example, in student = {\"name\": \"Aatreya\", \"age\": 22, \"grade\": \"A\"}, \"name\", \"age\", and \"grade\" are keys, while \"Aatreya\", 22, and \"A\" are their corresponding values. This structure allows us to quickly retrieve or update data using the key, rather than searching through the entire collection like we would in a list.\n",
        "\n",
        "5.Why might you use a set instead of a list in Python?\n",
        "\n",
        "  - We might use a set instead of a list in Python when we need to store unique elements and don’t care about their order. Unlike lists, sets automatically remove duplicates, so they’re very useful when we want to ensure all values are distinct—for example, collecting unique user IDs or filtering repeated items from data. Sets are also faster than lists for checking membership (in operation) because they use hashing under the hood, whereas lists check each element one by one. However, since sets are unordered, we lose control over the sequence of elements, which makes them less suitable if we need to preserve order.\n",
        "\n",
        "6.What is a string in Python, and how is it different from a list?\n",
        "\n",
        "  - A string is a sequence of characters enclosed in quotes (single, double, or triple) and is used to represent text, such as \"Hello World\". A list, on the other hand, is a collection that can hold multiple data types—numbers, strings, or even other lists—inside square brackets, like [1, \"apple\", 3.5]. The main difference is that strings are immutable, meaning once created, their contents can’t be changed directly, while lists are mutable, so we can modify, add, or remove elements. Another difference is that strings only store characters in a continuous sequence, whereas lists can store a mix of different data types. Both are ordered and indexable, but strings are specialized for handling text, while lists are more general-purpose collections.            \n",
        "\n",
        "7.How do tuples ensure data integrity in Python?\n",
        "\n",
        "  - Tuples ensure data integrity in Python because they are immutable, meaning once we create a tuple, its contents cannot be changed, added to, or removed. This immutability guarantees that the data inside a tuple stays fixed throughout the program, which is especially useful when we want to store constant or sensitive information that should not be modified accidentally. For example, if we store geographic coordinates (28.61, 77.23) in a tuple, we can be confident that the values won’t change by mistake during execution. This property makes tuples reliable for ensuring stability and consistency of data, which is why they’re often used for fixed collections or as keys in dictionaries.\n",
        "\n",
        "8.What is a hash table, and how does it relate to dictionaries in Python?\n",
        "\n",
        "  - A hash table is a data structure that stores data as key–value pairs and allows very fast access by using a hashing function to map each key to a specific memory location. In Python, dictionaries are built on hash tables, meaning when we assign a value to a key, Python computes the key’s hash and stores the value at the corresponding position, and when we look up the key, it re-computes the hash to retrieve the value quickly. This makes dictionary operations like searching, inserting, and deleting much faster than using lists, but it also requires keys to be immutable types such as strings, numbers, or tuples.\n",
        "\n",
        "9.Can lists contain different data types in Python?\n",
        "\n",
        "  - lists in Python can contain different data types because they are heterogeneous collections. This means we can store integers, floats, strings, booleans, or even other lists and dictionaries all in the same list. For example, a list like [10, \"hello\", 3.14, True, [1, 2, 3]] is perfectly valid. This flexibility is one of the reasons lists are so powerful, as they let us group together a variety of related or mixed data in a single structure.\n",
        "\n",
        "10.Explain why strings are immutable in Python?\n",
        "\n",
        "   - Strings are immutable in Python because once we create a string, its contents cannot be changed in place. If we try to modify it, Python actually creates a new string object rather than altering the original one. This design choice improves efficiency, since immutable objects can be safely shared across different parts of a program without worrying that one change will unexpectedly affect another. It also makes strings hashable, which allows us to use them as keys in dictionaries and elements in sets. In short, Python keeps strings immutable to ensure safety, consistency, and better performance when handling text.\n",
        "\n",
        "11.What advantages do dictionaries offer over lists for certain tasks?\n",
        "\n",
        "   - Dictionaries offer several advantages over lists for certain tasks because they store data as key–value pairs instead of just a sequence of elements. The biggest advantage is fast lookups—with a dictionary, we can access a value directly using its key in constant time, whereas in a list we would need to search through elements one by one. Dictionaries also make data more meaningful since keys act like labels, making the code easier to read and understand (e.g., student[\"age\"] is clearer than student[1]). Additionally, dictionaries naturally prevent duplicate keys, which helps maintain unique identifiers. Overall, dictionaries are more efficient and intuitive than lists when we need quick access to data based on identifiers rather than positions.\n",
        "\n",
        "12.Describe a scenario where using a tuple would be preferable over a list.\n",
        "\n",
        "   - Using a tuple is preferable over a list when we need to store data that should never change throughout the program. For example, if we’re storing the latitude and longitude of a city, such as (28.61, 77.23) for Delhi, a tuple is the better choice because geographic coordinates are fixed and shouldn’t be accidentally modified. Tuples ensure this data integrity because they are immutable, unlike lists which can be altered. In such cases, using a tuple not only protects the data but also makes the intention of “unchangeable information” clearer in our code.\n",
        "\n",
        "13.How do sets handle duplicate values in Python?      \n",
        "\n",
        "   - Sets in Python automatically remove duplicate values because they are designed to store only unique elements. When we add items to a set, Python checks each new element’s hash and ensures it isn’t already present; if it is, the duplicate is ignored. For example, if we create a set like {1, 2, 2, 3, 3, 3}, it will automatically store only {1, 2, 3}. This makes sets very useful when we want to eliminate duplicates from a collection or check for uniqueness in data.\n",
        "\n",
        "14.How does the “in” keyword work differently for lists and dictionaries?\n",
        "\n",
        "   - The in keyword works differently for lists and dictionaries because it checks membership in different ways. For a list, in checks whether a value exists among the elements, so if we write 5 in [1, 2, 3, 5], it returns True because 5 is one of the list items. For a dictionary, in only checks the keys, not the values. For example, in student = {\"name\": \"Aatreya\", \"age\": 22}, the expression \"name\" in student returns True, but \"Aatreya\" in student returns False because \"Aatreya\" is a value, not a key. If we want to check values in a dictionary, we need to use in student.values().\n",
        "\n",
        "15.Can you modify the elements of a tuple? Explain why or why not?\n",
        "\n",
        "   - No, we cannot modify the elements of a tuple in Python because tuples are immutable. Once a tuple is created, its contents are fixed and cannot be changed, added to, or removed. If we try to assign a new value to an element, Python will raise a TypeError. For example, if we write t = (1, 2, 3) and then try t[1] = 99, Python will throw an error. This immutability is intentional because tuples are often used to store constant data that should not change, and it also allows tuples to be used as dictionary keys or elements in sets, something mutable objects like lists cannot do.\n",
        "\n",
        "16.What is a nested dictionary, and give an example of its use case?\n",
        "\n",
        "   - A nested dictionary in Python is a dictionary where the values themselves are dictionaries. This structure allows us to represent hierarchical or structured data in a clean and organized way. For example, imagine we want to store information about students in a class—each student has details like age, grade, and city. We can use a nested dictionary like this:\n",
        "   students = {\n",
        "    \"Aatreya\": {\"age\": 22, \"grade\": \"A\", \"city\": \"Delhi\"},\n",
        "    \"Riya\": {\"age\": 21, \"grade\": \"B\", \"city\": \"Mumbai\"},\n",
        "    \"Arjun\": {\"age\": 23, \"grade\": \"A\", \"city\": \"Kolkata\"}\n",
        "}\n",
        "Here,Here, the outer dictionary uses student names as keys, and each value is another dictionary holding details of that student. A use case for nested dictionaries is managing structured data like student records, employee databases, or configuration settings, where each item has multiple attributes to store.\n",
        "\n",
        "17.Describe the time complexity of accessing elements in a dictionary?\n",
        "\n",
        "   - Accessing elements in a Python dictionary is generally very fast because dictionaries are implemented using hash tables. On average, the time complexity of accessing (or retrieving) an element by its key is O(1), meaning it takes constant time regardless of the size of the dictionary. This happens because Python computes the hash of the key and directly jumps to the location where the value is stored. However, in rare worst-case scenarios (like many keys having the same hash, called collisions), the time complexity can degrade to O(n), where n is the number of elements in the dictionary. Still, due to Python’s efficient hashing and collision-handling, dictionary access is usually considered O(1) in practice.\n",
        "\n",
        "18.In what situations are lists preferred over dictionaries?   \n",
        "\n",
        "   - Lists are preferred over dictionaries when we need to store ordered collections of items where the position (index) matters more than a unique key. For example, if we want to keep track of marks in the order they were scored [78, 85, 92, 88], a list is better because we can easily access elements by their index and preserve sequence. Lists are also simpler and take less memory when we don’t need key–value pairs. They are ideal for tasks like iterating over items in order, performing mathematical operations on sequences, or when duplicate values are allowed. In short, lists are preferred when order, indexing, or duplicates are important, while dictionaries are more useful when fast lookups and key-based access are needed.\n",
        "\n",
        "19.Why are dictionaries considered unordered, and how does that affect data retrieval?\n",
        "\n",
        "  - Dictionaries in Python are considered unordered because they store data based on the hash of the keys, not on the sequence in which items are inserted. This means the elements are not guaranteed to be in any particular order when we retrieve or iterate over them (though since Python 3.7, dictionaries preserve insertion order as an implementation detail, it should not be relied upon for logical correctness). This unordered nature affects data retrieval because we cannot access items by their position or index like in a list; instead, we must use the key to retrieve the corresponding value. For example, student[\"age\"] will always work regardless of where \"age\" is stored internally, but we cannot ask for “the second item” in a dictionary directly. This design makes dictionaries efficient for lookups but unsuitable when strict ordering or indexing is required.   \n",
        "\n",
        "20.Explain the difference between a list and a dictionary in terms of data retrieval?\n",
        "\n",
        "   - The main difference between a list and a dictionary in terms of data retrieval is how we access the elements. In a list, data is retrieved using an index, which represents the element’s position in the sequence. For example, in marks = [78, 85, 92], we use marks[1] to get 85. This makes lists best suited when order and position are important. In contrast, a dictionary retrieves data using a key, not a position. For example, in student = {\"name\": \"Aatreya\", \"age\": 22}, we use student[\"age\"] to get 22. This makes dictionaries more powerful for fast lookups when we want to associate specific labels (keys) with values, rather than relying on positional order.  "
      ],
      "metadata": {
        "id": "jHuOUl3Imqup"
      }
    },
    {
      "cell_type": "code",
      "execution_count": 1,
      "metadata": {
        "colab": {
          "base_uri": "https://localhost:8080/"
        },
        "collapsed": true,
        "id": "_4JIxmRDmbPy",
        "outputId": "b89f4d7f-ba93-461d-849e-1c696ca6aa46"
      },
      "outputs": [
        {
          "output_type": "stream",
          "name": "stdout",
          "text": [
            "My name is: Aatreya Pal\n"
          ]
        }
      ],
      "source": [
        "#Q.1 Write a code to create a string with your name and print it.\n",
        "\n",
        "# Creating a string with our name\n",
        "name = \"Aatreya Pal\"\n",
        "\n",
        "# Printing the string\n",
        "print(\"My name is:\", name)"
      ]
    },
    {
      "cell_type": "code",
      "source": [
        "#Q.2  Write a code to find the length of the string \"Hello World\".\n",
        "\n",
        "# Defining the string\n",
        "text = \"Hello World\"\n",
        "\n",
        "# Finding the length using len()\n",
        "length = len(text)\n",
        "\n",
        "# Printing the result\n",
        "print(\"The length of the string is:\", length)"
      ],
      "metadata": {
        "colab": {
          "base_uri": "https://localhost:8080/"
        },
        "collapsed": true,
        "id": "TTdpgQwdtNBg",
        "outputId": "c11e5012-5141-48de-d649-fb291bece25a"
      },
      "execution_count": 2,
      "outputs": [
        {
          "output_type": "stream",
          "name": "stdout",
          "text": [
            "The length of the string is: 11\n"
          ]
        }
      ]
    },
    {
      "cell_type": "code",
      "source": [
        "#Q.3 Write a code to slice the first 3 characters from the string \"Python Programming\".\n",
        "\n",
        "# Defining the string\n",
        "text = \"Python Programming\"\n",
        "\n",
        "# Slicing the first 3 characters\n",
        "slice_part = text[:3]\n",
        "\n",
        "# Printing the result\n",
        "print(\"The first 3 characters are:\", slice_part)"
      ],
      "metadata": {
        "colab": {
          "base_uri": "https://localhost:8080/"
        },
        "collapsed": true,
        "id": "F2dMeUMItZPF",
        "outputId": "e4edd294-3685-4a67-b142-2d6600573aa6"
      },
      "execution_count": 3,
      "outputs": [
        {
          "output_type": "stream",
          "name": "stdout",
          "text": [
            "The first 3 characters are: Pyt\n"
          ]
        }
      ]
    },
    {
      "cell_type": "code",
      "source": [
        "#Q.4 Write a code to convert the string \"hello\" to uppercase.\n",
        "\n",
        "# Defining the string\n",
        "text = \"hello\"\n",
        "\n",
        "# Converting to uppercase\n",
        "upper_text = text.upper()\n",
        "\n",
        "# Printing the result\n",
        "print(\"Uppercase string:\", upper_text)"
      ],
      "metadata": {
        "colab": {
          "base_uri": "https://localhost:8080/"
        },
        "collapsed": true,
        "id": "sWuGWuEyttSG",
        "outputId": "3236900b-076c-488b-814e-8eaa3b14b80e"
      },
      "execution_count": 4,
      "outputs": [
        {
          "output_type": "stream",
          "name": "stdout",
          "text": [
            "Uppercase string: HELLO\n"
          ]
        }
      ]
    },
    {
      "cell_type": "code",
      "source": [
        "#Q.5 Write a code to replace the word \"apple\" with \"orange\" in the string \"I like apple\".\n",
        "\n",
        "# Defining the string\n",
        "text = \"I like apple\"\n",
        "\n",
        "# Replacing 'apple' with 'orange'\n",
        "new_text = text.replace(\"apple\", \"orange\")\n",
        "\n",
        "# Printing the result\n",
        "print(\"Updated string:\", new_text)"
      ],
      "metadata": {
        "colab": {
          "base_uri": "https://localhost:8080/"
        },
        "collapsed": true,
        "id": "pnRMaWM-t-TH",
        "outputId": "61f71c6a-865d-4111-cf2d-43b0bd308491"
      },
      "execution_count": 5,
      "outputs": [
        {
          "output_type": "stream",
          "name": "stdout",
          "text": [
            "Updated string: I like orange\n"
          ]
        }
      ]
    },
    {
      "cell_type": "code",
      "source": [
        "#Q.6 Write a code to create a list with numbers 1 to 5 and print it.\n",
        "\n",
        "# Creating a list with numbers 1 to 5\n",
        "numbers = [1, 2, 3, 4, 5]\n",
        "\n",
        "# Printing the list\n",
        "print(\"The list is:\", numbers)"
      ],
      "metadata": {
        "colab": {
          "base_uri": "https://localhost:8080/"
        },
        "collapsed": true,
        "id": "yM0IT_gYuTDv",
        "outputId": "4ef0eb5c-324f-45dc-c509-596539dbbe12"
      },
      "execution_count": 6,
      "outputs": [
        {
          "output_type": "stream",
          "name": "stdout",
          "text": [
            "The list is: [1, 2, 3, 4, 5]\n"
          ]
        }
      ]
    },
    {
      "cell_type": "code",
      "source": [
        "#Q.7 Write a code to append the number 10 to the list [1, 2, 3, 4]\n",
        "\n",
        "# Defining the list\n",
        "numbers = [1, 2, 3, 4]\n",
        "\n",
        "# Appending 10 to the list\n",
        "numbers.append(10)\n",
        "\n",
        "# Printing the updated list\n",
        "print(\"Updated list:\", numbers)"
      ],
      "metadata": {
        "colab": {
          "base_uri": "https://localhost:8080/"
        },
        "collapsed": true,
        "id": "tHv-E014unou",
        "outputId": "21cc9597-01a3-498c-aa84-f1b9a3a26836"
      },
      "execution_count": 7,
      "outputs": [
        {
          "output_type": "stream",
          "name": "stdout",
          "text": [
            "Updated list: [1, 2, 3, 4, 10]\n"
          ]
        }
      ]
    },
    {
      "cell_type": "code",
      "source": [
        "#Q.8 Write a code to remove the number 3 from the list [1, 2, 3, 4, 5]?\n",
        "\n",
        "# Defining the list\n",
        "numbers = [1, 2, 3, 4, 5]\n",
        "\n",
        "# Removing the number 3\n",
        "numbers.remove(3)\n",
        "\n",
        "# Printing the updated list\n",
        "print(\"Updated list:\", numbers)"
      ],
      "metadata": {
        "colab": {
          "base_uri": "https://localhost:8080/"
        },
        "collapsed": true,
        "id": "YHQ3sKv4u5O_",
        "outputId": "6ed6aede-b89d-4924-fef0-1d8209c2c099"
      },
      "execution_count": 8,
      "outputs": [
        {
          "output_type": "stream",
          "name": "stdout",
          "text": [
            "Updated list: [1, 2, 4, 5]\n"
          ]
        }
      ]
    },
    {
      "cell_type": "code",
      "source": [
        "#Q.9 Write a code to access the second element in the list ['a', 'b', 'c', 'd'].\n",
        "\n",
        "# Defining the list\n",
        "letters = ['a', 'b', 'c', 'd']\n",
        "\n",
        "# Accessing the second element (index 1)\n",
        "second_element = letters[1]\n",
        "\n",
        "# Printing the result\n",
        "print(\"The second element is:\", second_element)"
      ],
      "metadata": {
        "colab": {
          "base_uri": "https://localhost:8080/"
        },
        "collapsed": true,
        "id": "O0qXTO9YvMeq",
        "outputId": "74324109-0ecf-4888-c8b7-2a77b0c0bc3d"
      },
      "execution_count": 9,
      "outputs": [
        {
          "output_type": "stream",
          "name": "stdout",
          "text": [
            "The second element is: b\n"
          ]
        }
      ]
    },
    {
      "cell_type": "code",
      "source": [
        "#Q.10 Write a code to reverse the list [10, 20, 30, 40, 50].\n",
        "\n",
        "# Defining the list\n",
        "numbers = [10, 20, 30, 40, 50]\n",
        "\n",
        "# Reversing the list\n",
        "numbers.reverse()\n",
        "\n",
        "# Printing the reversed list\n",
        "print(\"Reversed list:\", numbers)"
      ],
      "metadata": {
        "colab": {
          "base_uri": "https://localhost:8080/"
        },
        "collapsed": true,
        "id": "DzSblJZ6vdSs",
        "outputId": "48cea232-f73e-4ae7-8a59-c72b3ed3f7e1"
      },
      "execution_count": 10,
      "outputs": [
        {
          "output_type": "stream",
          "name": "stdout",
          "text": [
            "Reversed list: [50, 40, 30, 20, 10]\n"
          ]
        }
      ]
    },
    {
      "cell_type": "code",
      "source": [
        "#Q.11 Write a code to create a tuple with the elements 100, 200, 300 and print it.\n",
        "\n",
        "# Creating a tuple\n",
        "numbers = (100, 200, 300)\n",
        "\n",
        "# Printing the tuple\n",
        "print(\"The tuple is:\", numbers)"
      ],
      "metadata": {
        "colab": {
          "base_uri": "https://localhost:8080/"
        },
        "collapsed": true,
        "id": "8hS5x_VuvqSp",
        "outputId": "8886d43f-4ffb-4231-ca8e-cb8ba06d9827"
      },
      "execution_count": 11,
      "outputs": [
        {
          "output_type": "stream",
          "name": "stdout",
          "text": [
            "The tuple is: (100, 200, 300)\n"
          ]
        }
      ]
    },
    {
      "cell_type": "code",
      "source": [
        "#Q.12 Write a code to access the second-to-last element of the tuple ('red', 'green', 'blue', 'yellow').\n",
        "\n",
        "# Defining the tuple\n",
        "colors = ('red', 'green', 'blue', 'yellow')\n",
        "\n",
        "# Accessing the second-to-last element using negative indexing\n",
        "second_last = colors[-2]\n",
        "\n",
        "# Printing the result\n",
        "print(\"The second-to-last element is:\", second_last)"
      ],
      "metadata": {
        "collapsed": true,
        "colab": {
          "base_uri": "https://localhost:8080/"
        },
        "id": "dm8WtC9NwAfv",
        "outputId": "3f03a55d-abdd-4f34-f325-1b6d331fc8f6"
      },
      "execution_count": 12,
      "outputs": [
        {
          "output_type": "stream",
          "name": "stdout",
          "text": [
            "The second-to-last element is: blue\n"
          ]
        }
      ]
    },
    {
      "cell_type": "code",
      "source": [
        "#Q.13 Write a code to find the minimum number in the tuple (10, 20, 5, 15).\n",
        "\n",
        "# Defining the tuple\n",
        "numbers = (10, 20, 5, 15)\n",
        "\n",
        "# Finding the minimum number\n",
        "minimum = min(numbers)\n",
        "\n",
        "# Printing the result\n",
        "print(\"The minimum number is:\", minimum)"
      ],
      "metadata": {
        "colab": {
          "base_uri": "https://localhost:8080/"
        },
        "collapsed": true,
        "id": "iSy0VkcvwIK5",
        "outputId": "dd16b6fd-d21e-4609-f07b-8b70856cae45"
      },
      "execution_count": 13,
      "outputs": [
        {
          "output_type": "stream",
          "name": "stdout",
          "text": [
            "The minimum number is: 5\n"
          ]
        }
      ]
    },
    {
      "cell_type": "code",
      "source": [
        "#Q.14  Write a code to find the index of the element \"cat\" in the tuple ('dog', 'cat', 'rabbit').\n",
        "\n",
        "# Defining the tuple\n",
        "animals = ('dog', 'cat', 'rabbit')\n",
        "\n",
        "# Finding the index of \"cat\"\n",
        "index_cat = animals.index(\"cat\")\n",
        "\n",
        "# Printing the result\n",
        "print(\"The index of 'cat' is:\", index_cat)"
      ],
      "metadata": {
        "colab": {
          "base_uri": "https://localhost:8080/"
        },
        "collapsed": true,
        "id": "8CegqqYXwHhx",
        "outputId": "84fd0160-e37f-4342-8164-119714508ebe"
      },
      "execution_count": 14,
      "outputs": [
        {
          "output_type": "stream",
          "name": "stdout",
          "text": [
            "The index of 'cat' is: 1\n"
          ]
        }
      ]
    },
    {
      "cell_type": "code",
      "source": [
        "#Q.15 Write a code to create a tuple containing three different fruits and check if \"kiwi\" is in it.\n",
        "\n",
        "# Creating a tuple of fruits\n",
        "fruits = (\"apple\", \"banana\", \"mango\")\n",
        "\n",
        "# Checking if \"kiwi\" is in the tuple\n",
        "if \"kiwi\" in fruits:\n",
        "    print(\"Yes, 'kiwi' is in the tuple.\")\n",
        "else:\n",
        "    print(\"No, 'kiwi' is not in the tuple.\")"
      ],
      "metadata": {
        "colab": {
          "base_uri": "https://localhost:8080/"
        },
        "collapsed": true,
        "id": "F-TtTDS3woy3",
        "outputId": "a97d76e3-4a41-4d83-ce07-7c3950c03acd"
      },
      "execution_count": 15,
      "outputs": [
        {
          "output_type": "stream",
          "name": "stdout",
          "text": [
            "No, 'kiwi' is not in the tuple.\n"
          ]
        }
      ]
    },
    {
      "cell_type": "code",
      "source": [
        "#Q.16  Write a code to create a set with the elements 'a', 'b', 'c' and print it.\n",
        "\n",
        "# Creating a set\n",
        "my_set = {'a', 'b', 'c'}\n",
        "\n",
        "# Printing the set\n",
        "print(\"The set is:\", my_set)\n"
      ],
      "metadata": {
        "colab": {
          "base_uri": "https://localhost:8080/"
        },
        "collapsed": true,
        "id": "DADiOW-Jw694",
        "outputId": "737b3665-453d-49b4-c03f-4d09c7185e1a"
      },
      "execution_count": 16,
      "outputs": [
        {
          "output_type": "stream",
          "name": "stdout",
          "text": [
            "The set is: {'c', 'b', 'a'}\n"
          ]
        }
      ]
    },
    {
      "cell_type": "code",
      "source": [
        "#Q.17 Write a code to clear all elements from the set {1, 2, 3, 4, 5}\n",
        "\n",
        "# Creating a set\n",
        "numbers = {1, 2, 3, 4, 5}\n",
        "\n",
        "# Clearing all elements\n",
        "numbers.clear()\n",
        "\n",
        "# Printing the empty set\n",
        "print(\"The set after clearing:\", numbers)"
      ],
      "metadata": {
        "colab": {
          "base_uri": "https://localhost:8080/"
        },
        "collapsed": true,
        "id": "Esb61eFbxKdf",
        "outputId": "83418357-6fd8-4374-b0d9-1c25434de016"
      },
      "execution_count": 17,
      "outputs": [
        {
          "output_type": "stream",
          "name": "stdout",
          "text": [
            "The set after clearing: set()\n"
          ]
        }
      ]
    },
    {
      "cell_type": "code",
      "source": [
        "#Q.18 Write a code to remove the element 4 from the set {1, 2, 3, 4}.\n",
        "\n",
        "# Creating a set\n",
        "numbers = {1, 2, 3, 4}\n",
        "\n",
        "# Removing element 4\n",
        "numbers.remove(4)\n",
        "\n",
        "# Printing the updated set\n",
        "print(\"The set after removing 4:\", numbers)"
      ],
      "metadata": {
        "colab": {
          "base_uri": "https://localhost:8080/"
        },
        "collapsed": true,
        "id": "GCtPCJClxeFF",
        "outputId": "512d6aa1-8dcb-4634-cf64-2093bc1ecec2"
      },
      "execution_count": 18,
      "outputs": [
        {
          "output_type": "stream",
          "name": "stdout",
          "text": [
            "The set after removing 4: {1, 2, 3}\n"
          ]
        }
      ]
    },
    {
      "cell_type": "code",
      "source": [
        "#Q.19 Write a code to find the union of two sets {1, 2, 3} and {3, 4, 5}.\n",
        "\n",
        "# Creating two sets\n",
        "set1 = {1, 2, 3}\n",
        "set2 = {3, 4, 5}\n",
        "\n",
        "# Finding the union\n",
        "union_set = set1.union(set2)\n",
        "\n",
        "# Printing the result\n",
        "print(\"Union of sets:\", union_set)\n"
      ],
      "metadata": {
        "colab": {
          "base_uri": "https://localhost:8080/"
        },
        "collapsed": true,
        "id": "iq19-KSay4-z",
        "outputId": "567fe891-5c10-4bea-8647-5a20707f5f38"
      },
      "execution_count": 23,
      "outputs": [
        {
          "output_type": "stream",
          "name": "stdout",
          "text": [
            "Union of sets: {1, 2, 3, 4, 5}\n"
          ]
        }
      ]
    },
    {
      "cell_type": "code",
      "source": [
        "#Q.20 Write a code to find the intersection of two sets {1, 2, 3} and {2, 3, 4}.\n",
        "\n",
        "# Creating two sets\n",
        "set1 = {1, 2, 3}\n",
        "set2 = {2, 3, 4}\n",
        "\n",
        "# Finding the intersection\n",
        "intersection_set = set1.intersection(set2)\n",
        "\n",
        "# Printing the result\n",
        "print(\"Intersection of sets:\", intersection_set)"
      ],
      "metadata": {
        "colab": {
          "base_uri": "https://localhost:8080/"
        },
        "collapsed": true,
        "id": "MpzgDFY0zSf4",
        "outputId": "0c76f4a3-1e2e-49ad-c233-114ec3752e0b"
      },
      "execution_count": 24,
      "outputs": [
        {
          "output_type": "stream",
          "name": "stdout",
          "text": [
            "Intersection of sets: {2, 3}\n"
          ]
        }
      ]
    },
    {
      "cell_type": "code",
      "source": [
        "#Q.21 Write a code to create a dictionary with the keys \"name\", \"age\", and \"city\", and print it.\n",
        "\n",
        "# Creating a dictionary\n",
        "person = {\n",
        "    \"name\": \"Aatreya\",\n",
        "    \"age\": 22,\n",
        "    \"city\": \"Delhi\"\n",
        "}\n",
        "\n",
        "# Printing the dictionary\n",
        "print(\"Dictionary:\", person)"
      ],
      "metadata": {
        "colab": {
          "base_uri": "https://localhost:8080/"
        },
        "collapsed": true,
        "id": "KomAhByqzfcZ",
        "outputId": "48d096b1-c772-41ef-a429-5e0dcfb1393b"
      },
      "execution_count": 25,
      "outputs": [
        {
          "output_type": "stream",
          "name": "stdout",
          "text": [
            "Dictionary: {'name': 'Aatreya', 'age': 22, 'city': 'Delhi'}\n"
          ]
        }
      ]
    },
    {
      "cell_type": "code",
      "source": [
        "#Q.22 Write a code to add a new key-value pair \"country\": \"USA\" to the dictionary {'name': 'John', 'age': 25}.\n",
        "\n",
        "# Existing dictionary\n",
        "person = {'name': 'John', 'age': 25}\n",
        "\n",
        "# Adding a new key-value pair\n",
        "person['country'] = 'USA'\n",
        "\n",
        "# Printing the updated dictionary\n",
        "print(\"Updated dictionary:\", person)"
      ],
      "metadata": {
        "colab": {
          "base_uri": "https://localhost:8080/"
        },
        "collapsed": true,
        "id": "z-T8jDWnzrGM",
        "outputId": "33691ae4-e1e9-49cb-d386-bf4b25f1b38d"
      },
      "execution_count": 26,
      "outputs": [
        {
          "output_type": "stream",
          "name": "stdout",
          "text": [
            "Updated dictionary: {'name': 'John', 'age': 25, 'country': 'USA'}\n"
          ]
        }
      ]
    },
    {
      "cell_type": "code",
      "source": [
        "#Q.23 Write a code to access the value associated with the key \"name\" in the dictionary {'name': 'Alice', 'age': 30}.\n",
        "\n",
        "# Dictionary\n",
        "person = {'name': 'Alice', 'age': 30}\n",
        "\n",
        "# Accessing the value of \"name\"\n",
        "print(\"Name:\", person['name'])"
      ],
      "metadata": {
        "colab": {
          "base_uri": "https://localhost:8080/"
        },
        "collapsed": true,
        "id": "3Cqznh4Xz6zD",
        "outputId": "1d59060e-4c8f-4d9a-8e3b-e38205cea1fe"
      },
      "execution_count": 27,
      "outputs": [
        {
          "output_type": "stream",
          "name": "stdout",
          "text": [
            "Name: Alice\n"
          ]
        }
      ]
    },
    {
      "cell_type": "code",
      "source": [
        "#Q.24 Write a code to remove the key \"age\" from the dictionary {'name': 'Bob', 'age': 22, 'city': 'New York'}.\n",
        "\n",
        "# Dictionary\n",
        "person = {'name': 'Bob', 'age': 22, 'city': 'New York'}\n",
        "\n",
        "# Removing the key \"age\"\n",
        "person.pop('age')\n",
        "\n",
        "# Printing the updated dictionary\n",
        "print(\"Updated dictionary:\", person)"
      ],
      "metadata": {
        "colab": {
          "base_uri": "https://localhost:8080/"
        },
        "collapsed": true,
        "id": "T25cMg1o0JgT",
        "outputId": "62104ec9-b326-4c68-db33-1d02a659627f"
      },
      "execution_count": 28,
      "outputs": [
        {
          "output_type": "stream",
          "name": "stdout",
          "text": [
            "Updated dictionary: {'name': 'Bob', 'city': 'New York'}\n"
          ]
        }
      ]
    },
    {
      "cell_type": "code",
      "source": [
        "#Q.25 Write a code to check if the key \"city\" exists in the dictionary {'name': 'Alice', 'city': 'Paris'}\n",
        "\n",
        "# Dictionary\n",
        "person = {'name': 'Alice', 'city': 'Paris'}\n",
        "\n",
        "# Checking if \"city\" exists\n",
        "if 'city' in person:\n",
        "    print(\"The key 'city' exists in the dictionary.\")\n",
        "else:\n",
        "    print(\"The key 'city' does not exist in the dictionary.\")"
      ],
      "metadata": {
        "colab": {
          "base_uri": "https://localhost:8080/"
        },
        "collapsed": true,
        "id": "FL573Z320Wwq",
        "outputId": "e14ccdcc-4bc4-4c44-d2e5-18ee69a4cbeb"
      },
      "execution_count": 29,
      "outputs": [
        {
          "output_type": "stream",
          "name": "stdout",
          "text": [
            "The key 'city' exists in the dictionary.\n"
          ]
        }
      ]
    },
    {
      "cell_type": "code",
      "source": [
        "#Q.26 Write a code to create a list, a tuple, and a dictionary, and print them all.\n",
        "\n",
        "# Creating a list\n",
        "my_list = [1, 2, 3, 4, 5]\n",
        "\n",
        "# Creating a tuple\n",
        "my_tuple = ('apple', 'banana', 'cherry')\n",
        "\n",
        "# Creating a dictionary\n",
        "my_dict = {'name': 'Alice', 'age': 25, 'city': 'Paris'}\n",
        "\n",
        "# Printing them\n",
        "print(\"List:\", my_list)\n",
        "print(\"Tuple:\", my_tuple)\n",
        "print(\"Dictionary:\", my_dict)"
      ],
      "metadata": {
        "colab": {
          "base_uri": "https://localhost:8080/"
        },
        "collapsed": true,
        "id": "u6Pw6GJF0k0c",
        "outputId": "c908e4b8-f657-4225-de5c-7c7dfa8f63f8"
      },
      "execution_count": 30,
      "outputs": [
        {
          "output_type": "stream",
          "name": "stdout",
          "text": [
            "List: [1, 2, 3, 4, 5]\n",
            "Tuple: ('apple', 'banana', 'cherry')\n",
            "Dictionary: {'name': 'Alice', 'age': 25, 'city': 'Paris'}\n"
          ]
        }
      ]
    },
    {
      "cell_type": "code",
      "source": [
        "#Q.27  Write a code to create a list of 5 random numbers between 1 and 100, sort it in ascending order, and print the result.(replaced).\n",
        "\n",
        "import random\n",
        "\n",
        "# Create a list of 5 random numbers between 1 and 100\n",
        "numbers = [random.randint(1, 100) for _ in range(5)]\n",
        "\n",
        "# Sort the list in ascending order\n",
        "numbers.sort()\n",
        "\n",
        "# Print the result\n",
        "print(\"Sorted List:\", numbers)"
      ],
      "metadata": {
        "colab": {
          "base_uri": "https://localhost:8080/"
        },
        "collapsed": true,
        "id": "wRguZQTK01N7",
        "outputId": "60f0de0f-2457-4a43-bdb3-7b72945813e8"
      },
      "execution_count": 31,
      "outputs": [
        {
          "output_type": "stream",
          "name": "stdout",
          "text": [
            "Sorted List: [19, 27, 34, 34, 47]\n"
          ]
        }
      ]
    },
    {
      "cell_type": "code",
      "source": [
        "#Q.28 Write a code to create a list with strings and print the element at the third index.\n",
        "\n",
        "# Create a list with strings\n",
        "fruits = [\"apple\", \"banana\", \"cherry\", \"mango\", \"orange\"]\n",
        "\n",
        "# Print the element at the third index (indexing starts from 0)\n",
        "print(\"Element at third index:\", fruits[3])"
      ],
      "metadata": {
        "colab": {
          "base_uri": "https://localhost:8080/"
        },
        "collapsed": true,
        "id": "J5eifhNd1Jio",
        "outputId": "5c956104-a517-42d4-dd76-1521137b63a5"
      },
      "execution_count": 32,
      "outputs": [
        {
          "output_type": "stream",
          "name": "stdout",
          "text": [
            "Element at third index: mango\n"
          ]
        }
      ]
    },
    {
      "cell_type": "code",
      "source": [
        "#Q.29 Write a code to combine two dictionaries into one and print the result.\n",
        "\n",
        "# Create two dictionaries\n",
        "dict1 = {\"name\": \"Alice\", \"age\": 25}\n",
        "dict2 = {\"city\": \"Paris\", \"country\": \"France\"}\n",
        "\n",
        "# Combine dictionaries using update()\n",
        "dict1.update(dict2)\n",
        "\n",
        "# Print the combined dictionary\n",
        "print(\"Combined Dictionary:\", dict1)"
      ],
      "metadata": {
        "colab": {
          "base_uri": "https://localhost:8080/"
        },
        "collapsed": true,
        "id": "J5N6YCQX1WPY",
        "outputId": "14db71dc-ae0e-4258-d84f-7b6e1e22c6a4"
      },
      "execution_count": 33,
      "outputs": [
        {
          "output_type": "stream",
          "name": "stdout",
          "text": [
            "Combined Dictionary: {'name': 'Alice', 'age': 25, 'city': 'Paris', 'country': 'France'}\n"
          ]
        }
      ]
    },
    {
      "cell_type": "code",
      "source": [
        "#Q.30 Write a code to convert a list of strings into a set.\n",
        "\n",
        "# Create a list of strings\n",
        "string_list = [\"apple\", \"banana\", \"cherry\", \"apple\", \"banana\"]\n",
        "\n",
        "# Convert list to set\n",
        "string_set = set(string_list)\n",
        "\n",
        "# Print the set\n",
        "print(\"Set:\", string_set)"
      ],
      "metadata": {
        "colab": {
          "base_uri": "https://localhost:8080/"
        },
        "collapsed": true,
        "id": "QlnOhU-j1lx1",
        "outputId": "0347d7a4-09cb-4505-f6c2-da8af856a691"
      },
      "execution_count": 34,
      "outputs": [
        {
          "output_type": "stream",
          "name": "stdout",
          "text": [
            "Set: {'cherry', 'banana', 'apple'}\n"
          ]
        }
      ]
    }
  ]
}